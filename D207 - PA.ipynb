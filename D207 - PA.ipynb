{
 "cells": [
  {
   "cell_type": "code",
   "execution_count": 69,
   "id": "49f360fd-ef53-4d23-a726-0c2578f402fd",
   "metadata": {},
   "outputs": [],
   "source": [
    "#Import all packages\n",
    "import pandas as pd\n",
    "import numpy as np\n",
    "\n",
    "import seaborn as sns\n",
    "import matplotlib.pyplot as plt\n",
    "%matplotlib inline\n",
    "\n",
    "from scipy import stats\n",
    "from scipy.stats import chi2_contingency"
   ]
  },
  {
   "cell_type": "code",
   "execution_count": 70,
   "id": "4d3e3ff4-da7e-4d5d-95d2-fd2761d9a396",
   "metadata": {},
   "outputs": [],
   "source": [
    "#Load my data set into pandas\n",
    "df = pd.read_csv('medical_clean.csv')"
   ]
  },
  {
   "cell_type": "code",
   "execution_count": 71,
   "id": "8fc816f2-4a17-4b32-bc76-f8b1aa82d197",
   "metadata": {},
   "outputs": [
    {
     "data": {
      "text/html": [
       "<div>\n",
       "<style scoped>\n",
       "    .dataframe tbody tr th:only-of-type {\n",
       "        vertical-align: middle;\n",
       "    }\n",
       "\n",
       "    .dataframe tbody tr th {\n",
       "        vertical-align: top;\n",
       "    }\n",
       "\n",
       "    .dataframe thead th {\n",
       "        text-align: right;\n",
       "    }\n",
       "</style>\n",
       "<table border=\"1\" class=\"dataframe\">\n",
       "  <thead>\n",
       "    <tr style=\"text-align: right;\">\n",
       "      <th></th>\n",
       "      <th>ReAdmis</th>\n",
       "      <th>Complication_risk</th>\n",
       "    </tr>\n",
       "  </thead>\n",
       "  <tbody>\n",
       "    <tr>\n",
       "      <th>count</th>\n",
       "      <td>10000</td>\n",
       "      <td>10000</td>\n",
       "    </tr>\n",
       "    <tr>\n",
       "      <th>unique</th>\n",
       "      <td>2</td>\n",
       "      <td>3</td>\n",
       "    </tr>\n",
       "    <tr>\n",
       "      <th>top</th>\n",
       "      <td>No</td>\n",
       "      <td>Medium</td>\n",
       "    </tr>\n",
       "    <tr>\n",
       "      <th>freq</th>\n",
       "      <td>6331</td>\n",
       "      <td>4517</td>\n",
       "    </tr>\n",
       "  </tbody>\n",
       "</table>\n",
       "</div>"
      ],
      "text/plain": [
       "       ReAdmis Complication_risk\n",
       "count    10000             10000\n",
       "unique       2                 3\n",
       "top         No            Medium\n",
       "freq      6331              4517"
      ]
     },
     "execution_count": 71,
     "metadata": {},
     "output_type": "execute_result"
    }
   ],
   "source": [
    "#Create a second one with only the two columns to look at the descriptions\n",
    "df2 = df[['ReAdmis', 'Complication_risk']]\n",
    "df2.describe()"
   ]
  },
  {
   "cell_type": "code",
   "execution_count": 72,
   "id": "57694116-1ba1-4080-8f3a-ba66fe53a68f",
   "metadata": {},
   "outputs": [
    {
     "data": {
      "text/html": [
       "<div>\n",
       "<style scoped>\n",
       "    .dataframe tbody tr th:only-of-type {\n",
       "        vertical-align: middle;\n",
       "    }\n",
       "\n",
       "    .dataframe tbody tr th {\n",
       "        vertical-align: top;\n",
       "    }\n",
       "\n",
       "    .dataframe thead th {\n",
       "        text-align: right;\n",
       "    }\n",
       "</style>\n",
       "<table border=\"1\" class=\"dataframe\">\n",
       "  <thead>\n",
       "    <tr style=\"text-align: right;\">\n",
       "      <th>Complication_risk</th>\n",
       "      <th>High</th>\n",
       "      <th>Low</th>\n",
       "      <th>Medium</th>\n",
       "    </tr>\n",
       "    <tr>\n",
       "      <th>ReAdmis</th>\n",
       "      <th></th>\n",
       "      <th></th>\n",
       "      <th></th>\n",
       "    </tr>\n",
       "  </thead>\n",
       "  <tbody>\n",
       "    <tr>\n",
       "      <th>No</th>\n",
       "      <td>2135</td>\n",
       "      <td>1343</td>\n",
       "      <td>2853</td>\n",
       "    </tr>\n",
       "    <tr>\n",
       "      <th>Yes</th>\n",
       "      <td>1223</td>\n",
       "      <td>782</td>\n",
       "      <td>1664</td>\n",
       "    </tr>\n",
       "  </tbody>\n",
       "</table>\n",
       "</div>"
      ],
      "text/plain": [
       "Complication_risk  High   Low  Medium\n",
       "ReAdmis                              \n",
       "No                 2135  1343    2853\n",
       "Yes                1223   782    1664"
      ]
     },
     "execution_count": 72,
     "metadata": {},
     "output_type": "execute_result"
    }
   ],
   "source": [
    "#Create a contingency table for the ReAdmis and Complication_risk variables\n",
    "contingency = pd.crosstab(df['ReAdmis'], df['Complication_risk'])\n",
    "contingency"
   ]
  },
  {
   "cell_type": "code",
   "execution_count": 73,
   "id": "4e696fe5-1340-4756-9104-5c87bafee7f8",
   "metadata": {},
   "outputs": [
    {
     "data": {
      "text/html": [
       "<div>\n",
       "<style scoped>\n",
       "    .dataframe tbody tr th:only-of-type {\n",
       "        vertical-align: middle;\n",
       "    }\n",
       "\n",
       "    .dataframe tbody tr th {\n",
       "        vertical-align: top;\n",
       "    }\n",
       "\n",
       "    .dataframe thead th {\n",
       "        text-align: right;\n",
       "    }\n",
       "</style>\n",
       "<table border=\"1\" class=\"dataframe\">\n",
       "  <thead>\n",
       "    <tr style=\"text-align: right;\">\n",
       "      <th>Complication_risk</th>\n",
       "      <th>High</th>\n",
       "      <th>Low</th>\n",
       "      <th>Medium</th>\n",
       "    </tr>\n",
       "    <tr>\n",
       "      <th>ReAdmis</th>\n",
       "      <th></th>\n",
       "      <th></th>\n",
       "      <th></th>\n",
       "    </tr>\n",
       "  </thead>\n",
       "  <tbody>\n",
       "    <tr>\n",
       "      <th>No</th>\n",
       "      <td>0.337230</td>\n",
       "      <td>0.212131</td>\n",
       "      <td>0.45064</td>\n",
       "    </tr>\n",
       "    <tr>\n",
       "      <th>Yes</th>\n",
       "      <td>0.333333</td>\n",
       "      <td>0.213137</td>\n",
       "      <td>0.45353</td>\n",
       "    </tr>\n",
       "  </tbody>\n",
       "</table>\n",
       "</div>"
      ],
      "text/plain": [
       "Complication_risk      High       Low   Medium\n",
       "ReAdmis                                       \n",
       "No                 0.337230  0.212131  0.45064\n",
       "Yes                0.333333  0.213137  0.45353"
      ]
     },
     "execution_count": 73,
     "metadata": {},
     "output_type": "execute_result"
    }
   ],
   "source": [
    "#Second contingency table to see the percentages of each value compared to the total\n",
    "contingency_pct = pd.crosstab(df['ReAdmis'], df['Complication_risk'], normalize = 'index')\n",
    "contingency_pct"
   ]
  },
  {
   "cell_type": "code",
   "execution_count": 74,
   "id": "1d1ecebd-7edf-4d33-b1f2-61d4ca4251f0",
   "metadata": {},
   "outputs": [
    {
     "name": "stdout",
     "output_type": "stream",
     "text": [
      "p-value is: 0.923567890607327\n",
      "Independent: H0 holds true.\n"
     ]
    }
   ],
   "source": [
    "#Run Chi-Square test for the p-value then test it against the alpha value of 0.05\n",
    "c, p, dof, expected = chi2_contingency(contingency)\n",
    "\n",
    "alpha = 0.05\n",
    "print(\"p-value is: \" + str(p))\n",
    "if p <= alpha:\n",
    "    print('Dependent: Reject H0.')\n",
    "else:\n",
    "    print('Independent: H0 holds true.')"
   ]
  },
  {
   "cell_type": "code",
   "execution_count": 75,
   "id": "9aabce21-14cc-4fc0-b463-7f23b2482165",
   "metadata": {},
   "outputs": [],
   "source": [
    "#Rename the 'item' columns I'm using for better visualization\n",
    "df.rename(columns = {'Item1': 'Timely_Admission',\n",
    "                     'Item2': 'Timely_Treatment',\n",
    "                     'Item6': 'Hours_of_Treatment',\n",
    "                     'Item8': 'Evidence_of_Listening'},\n",
    "          inplace = True)"
   ]
  },
  {
   "cell_type": "code",
   "execution_count": 76,
   "id": "d5a45b78-0297-41de-a22b-04175d5e9216",
   "metadata": {},
   "outputs": [
    {
     "data": {
      "text/plain": [
       "array([[<AxesSubplot:title={'center':'Age'}>,\n",
       "        <AxesSubplot:title={'center':'TotalCharge'}>],\n",
       "       [<AxesSubplot:title={'center':'Timely_Admission'}>,\n",
       "        <AxesSubplot:title={'center':'Timely_Treatment'}>]], dtype=object)"
      ]
     },
     "execution_count": 76,
     "metadata": {},
     "output_type": "execute_result"
    },
    {
     "data": {
      "image/png": "[encoded data removed]",
      "text/plain": [
       "<Figure size 1008x792 with 4 Axes>"
      ]
     },
     "metadata": {
      "needs_background": "light"
     },
     "output_type": "display_data"
    }
   ],
   "source": [
    "#Create histograms for the continuous and categorical variables\n",
    "df[['Age', 'TotalCharge', 'Timely_Admission', 'Timely_Treatment']].hist(ec = \"black\", figsize = (14, 11))\n",
    "#plt.savefig('Univariate Histogram.jpg')"
   ]
  },
  {
   "cell_type": "code",
   "execution_count": 77,
   "id": "dafa3a91-e102-480a-a2fa-acae2081cd59",
   "metadata": {},
   "outputs": [
    {
     "data": {
      "text/plain": [
       "<AxesSubplot:xlabel='Age'>"
      ]
     },
     "execution_count": 77,
     "metadata": {},
     "output_type": "execute_result"
    },
    {
     "data": {
      "image/png": "[encoded data removed]",
      "text/plain": [
       "<Figure size 432x288 with 1 Axes>"
      ]
     },
     "metadata": {
      "needs_background": "light"
     },
     "output_type": "display_data"
    }
   ],
   "source": [
    "#Create boxplots for the continuous and categorical variables [2]\n",
    "sns.boxplot(x = df['Age'])\n",
    "#plt.savefig('Age Boxplot.jpg')"
   ]
  },
  {
   "cell_type": "code",
   "execution_count": 78,
   "id": "424f21bf-602a-427f-a924-f013691b68a2",
   "metadata": {},
   "outputs": [
    {
     "data": {
      "text/plain": [
       "<AxesSubplot:xlabel='TotalCharge'>"
      ]
     },
     "execution_count": 78,
     "metadata": {},
     "output_type": "execute_result"
    },
    {
     "data": {
      "image/png": "[encoded data removed]",
      "text/plain": [
       "<Figure size 432x288 with 1 Axes>"
      ]
     },
     "metadata": {
      "needs_background": "light"
     },
     "output_type": "display_data"
    }
   ],
   "source": [
    "sns.boxplot(x = df['TotalCharge'])\n",
    "#plt.savefig('Charges Boxplot.jpg')"
   ]
  },
  {
   "cell_type": "code",
   "execution_count": 79,
   "id": "aa7658a6-caca-4308-9af4-26c5272118cc",
   "metadata": {},
   "outputs": [
    {
     "data": {
      "text/plain": [
       "<AxesSubplot:xlabel='Timely_Admission'>"
      ]
     },
     "execution_count": 79,
     "metadata": {},
     "output_type": "execute_result"
    },
    {
     "data": {
      "image/png": "[encoded data removed]",
      "text/plain": [
       "<Figure size 432x288 with 1 Axes>"
      ]
     },
     "metadata": {
      "needs_background": "light"
     },
     "output_type": "display_data"
    }
   ],
   "source": [
    "sns.boxplot(x = df['Timely_Admission'])\n",
    "#plt.savefig('Admission Boxplot.jpg')"
   ]
  },
  {
   "cell_type": "code",
   "execution_count": 80,
   "id": "0df8057b-c866-4f33-b77f-adb8930aed6c",
   "metadata": {},
   "outputs": [
    {
     "data": {
      "text/plain": [
       "<AxesSubplot:xlabel='Timely_Treatment'>"
      ]
     },
     "execution_count": 80,
     "metadata": {},
     "output_type": "execute_result"
    },
    {
     "data": {
      "image/png": "[encoded data removed]",
      "text/plain": [
       "<Figure size 432x288 with 1 Axes>"
      ]
     },
     "metadata": {
      "needs_background": "light"
     },
     "output_type": "display_data"
    }
   ],
   "source": [
    "sns.boxplot(x = df['Timely_Treatment'])\n",
    "#plt.savefig('Treatment Boxplot.jpg')"
   ]
  },
  {
   "cell_type": "code",
   "execution_count": 81,
   "id": "69f91011-8e93-4bfe-a7ee-7cbf8dad7d7e",
   "metadata": {},
   "outputs": [
    {
     "data": {
      "text/plain": [
       "<AxesSubplot:xlabel='Age', ylabel='TotalCharge'>"
      ]
     },
     "execution_count": 81,
     "metadata": {},
     "output_type": "execute_result"
    },
    {
     "data": {
      "image/png": "[encoded data removed]",
      "text/plain": [
       "<Figure size 432x288 with 1 Axes>"
      ]
     },
     "metadata": {
      "needs_background": "light"
     },
     "output_type": "display_data"
    }
   ],
   "source": [
    "#Create a scatter plot for the continuous variables [1]\n",
    "df[df['Age'] < 100].sample(200).plot.scatter(x = 'Age', y = 'TotalCharge')\n",
    "#plt.savefig('Continuous Scatter.jpg')"
   ]
  },
  {
   "cell_type": "code",
   "execution_count": 82,
   "id": "c73c65d8-7e3c-4de7-b3d2-83daa893c5b4",
   "metadata": {},
   "outputs": [
    {
     "data": {
      "image/png": "[encoded data removed]",
      "text/plain": [
       "<Figure size 432x288 with 1 Axes>"
      ]
     },
     "metadata": {
      "needs_background": "light"
     },
     "output_type": "display_data"
    }
   ],
   "source": [
    "#Create a scatter plot for the categorical variables\n",
    "df[df['Hours_of_Treatment'] < 10].sample(100).plot.scatter(x = 'Hours_of_Treatment', y = 'Evidence_of_Listening')\n",
    "plt.savefig('Categorical Scatter.jpg')"
   ]
  },
  {
   "cell_type": "code",
   "execution_count": null,
   "id": "06286881-eafe-45f7-a41e-312d07100144",
   "metadata": {},
   "outputs": [],
   "source": []
  }
 ],
 "metadata": {
  "kernelspec": {
   "display_name": "Python 3",
   "language": "python",
   "name": "python3"
  },
  "language_info": {
   "codemirror_mode": {
    "name": "ipython",
    "version": 3
   },
   "file_extension": ".py",
   "mimetype": "text/x-python",
   "name": "python",
   "nbconvert_exporter": "python",
   "pygments_lexer": "ipython3",
   "version": "3.8.8"
  }
 },
 "nbformat": 4,
 "nbformat_minor": 5
}
